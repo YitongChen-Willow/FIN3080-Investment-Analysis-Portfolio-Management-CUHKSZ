{
 "cells": [
  {
   "cell_type": "markdown",
   "metadata": {},
   "source": [
    "#### **Problem 1**\n",
    "Download daily Closing Index for the CSI 300 index from CSMAR’s China Stock Market Series/Stock Trading/Market Index table over 2006/1/1 to 2023/12/31."
   ]
  },
  {
   "cell_type": "code",
   "execution_count": 149,
   "metadata": {},
   "outputs": [
    {
     "name": "stdout",
     "output_type": "stream",
     "text": [
      "       code  trade_date  close_index\n",
      "21302   300  2006-01-04   941.428000\n",
      "21303   300  2006-01-05   959.134000\n",
      "21304   300  2006-01-06   970.032000\n",
      "21305   300  2006-01-09   975.253000\n",
      "21306   300  2006-01-10   978.154000\n",
      "...     ...         ...          ...\n",
      "25671   300  2023-12-25  3347.451000\n",
      "25672   300  2023-12-26  3324.790000\n",
      "25673   300  2023-12-27  3336.357000\n",
      "25674   300  2023-12-28  3414.540000\n",
      "25675   300  2023-12-29  3431.110000\n",
      "\n",
      "[4374 rows x 3 columns]\n"
     ]
    }
   ],
   "source": [
    "import pandas as pd\n",
    "import numpy as np\n",
    "import matplotlib.pyplot as plt\n",
    "import statsmodels.api as sm\n",
    "import scipy.stats as stats\n",
    "\n",
    "target_index = pd.read_csv(\"TRD_Index.csv\")\n",
    "target_index = target_index[target_index[\"Indexcd\"] == 300]\n",
    "target_index.columns = [\"code\", \"trade_date\", \"close_index\"]\n",
    "print(target_index)"
   ]
  },
  {
   "cell_type": "markdown",
   "metadata": {},
   "source": [
    "a. Manually derive monthly CSI 300 index returns and provide summary statistics on mean, standard deviation, skewness and kurtosis for monthly CSI 300 index returns."
   ]
  },
  {
   "cell_type": "code",
   "execution_count": 150,
   "metadata": {},
   "outputs": [
    {
     "name": "stdout",
     "output_type": "stream",
     "text": [
      "                0\n",
      "Mean     0.009042\n",
      "Std      0.081745\n",
      "Skewness 0.018308\n",
      "Kurtosis 1.393663\n"
     ]
    }
   ],
   "source": [
    "# Retain last record in each month and calculate return.\n",
    "target_index[\"trade_date\"] = pd.to_datetime(target_index[\"trade_date\"]).dt.to_period(\"M\")\n",
    "target_index = target_index.drop_duplicates(subset = \"trade_date\", keep = \"last\")\n",
    "target_index[\"return\"] = target_index[\"close_index\"].pct_change()\n",
    "target_index = target_index.dropna(subset = \"return\")\n",
    "\n",
    "# Statistics.\n",
    "stats_summary = {\n",
    "    \"Mean\": target_index[\"return\"].mean(),\n",
    "    \"Std\": target_index[\"return\"].std(),\n",
    "    \"Skewness\": stats.skew(target_index[\"return\"]),\n",
    "    \"Kurtosis\": stats.kurtosis(target_index[\"return\"])\n",
    "}\n",
    "stats_df = pd.DataFrame.from_dict(stats_summary, orient = \"index\")\n",
    "print(stats_df)"
   ]
  },
  {
   "cell_type": "markdown",
   "metadata": {},
   "source": [
    "b. Plot a histogram for CSI 300 monthly returns."
   ]
  },
  {
   "cell_type": "code",
   "execution_count": 151,
   "metadata": {},
   "outputs": [
    {
     "data": {
      "image/png": "[encoded data removed]",
      "text/plain": [
       "<Figure size 800x600 with 1 Axes>"
      ]
     },
     "metadata": {},
     "output_type": "display_data"
    },
    {
     "name": "stdout",
     "output_type": "stream",
     "text": [
      "ShapiroResult(statistic=np.float64(0.9712842203281807), pvalue=np.float64(0.00022801795669057684))\n"
     ]
    }
   ],
   "source": [
    "plt.figure(figsize = (8, 6))\n",
    "plt.hist(target_index[\"return\"], bins = 30, range=(-0.35, 0.35), density = True, color = \"green\")\n",
    "\n",
    "# Attach the normal distribution curve.\n",
    "miu, sigma = stats_summary[\"Mean\"], stats_summary[\"Std\"]\n",
    "x = np.linspace(target_index[\"return\"].min(), target_index[\"return\"].max(), 100)\n",
    "plt.plot(x, stats.norm.pdf(x, miu, sigma), \"k-\", linewidth = 1.6)\n",
    "\n",
    "plt.title(\"CSI300 Monthly Return\", fontsize = 12)\n",
    "plt.xlabel(\"Return\", fontsize = 12)\n",
    "plt.ylabel(\"Density\", fontsize = 12)\n",
    "\n",
    "plt.show()\n",
    "\n",
    "# Conduct Shapiro-Wilk test.\n",
    "print(stats.shapiro(target_index[\"return\"]))"
   ]
  },
  {
   "cell_type": "markdown",
   "metadata": {},
   "source": [
    "#### **Problem 2**\n",
    "Since the seminal work of Jensen, Black, and Scholes(1972, hereafter BJS), there have been numerous empirical attempts to examine the relationship between asset risks and expected returns. In a simplified adaptation of BJS’s framework, Chen et al. (2019) apply this methodology to the Chinese stock market. Please carefully read through Chen et al. (2019) and complete the following tasks.\n",
    "\n",
    "a. Download weekly Returns Without Cash Dividend Reinvested for all A-share mainboard stocks from China Stock Market Series/Stock Trading/Individual Stock Trading table from the first week of 2017 to the last week of 2022."
   ]
  },
  {
   "cell_type": "code",
   "execution_count": 152,
   "metadata": {},
   "outputs": [
    {
     "name": "stdout",
     "output_type": "stream",
     "text": [
      "          code     date    return\n",
      "0            1  2017-01  0.003297\n",
      "1            1  2017-02  0.003286\n",
      "2            1  2017-03  0.006550\n",
      "3            1  2017-04  0.011931\n",
      "4            1  2017-05 -0.007503\n",
      "...        ...      ...       ...\n",
      "192896  873527  2022-49 -0.005513\n",
      "192897  873527  2022-50 -0.024390\n",
      "192898  873527  2022-51 -0.019318\n",
      "192899  873527  2022-52 -0.067207\n",
      "192900  873527  2022-53  0.000000\n",
      "\n",
      "[889071 rows x 3 columns]\n"
     ]
    }
   ],
   "source": [
    "weekly1 = pd.read_csv(\"TRD_Week.csv\")\n",
    "weekly2 = pd.read_csv(\"TRD_Week1.csv\")\n",
    "weekly_return = pd.concat([weekly1, weekly2])\n",
    "\n",
    "weekly_return.columns = [\"code\", \"date\", \"return\", \"type\"]\n",
    "weekly_return = weekly_return[weekly_return[\"type\"].isin([1, 4, 64])]\n",
    "weekly_return = weekly_return.drop(columns = \"type\")\n",
    "print(weekly_return)"
   ]
  },
  {
   "cell_type": "markdown",
   "metadata": {},
   "source": [
    "b. Calculate weekly market returns as the mean value of weekly returns of all mainboard stocks."
   ]
  },
  {
   "cell_type": "code",
   "execution_count": 153,
   "metadata": {},
   "outputs": [
    {
     "name": "stdout",
     "output_type": "stream",
     "text": [
      "        date  mkt_return\n",
      "0    2017-01    0.018377\n",
      "1    2017-02   -0.032801\n",
      "2    2017-03   -0.015996\n",
      "3    2017-04    0.018515\n",
      "4    2017-05   -0.002261\n",
      "..       ...         ...\n",
      "303  2022-49    0.028340\n",
      "304  2022-50    0.003581\n",
      "305  2022-51   -0.014400\n",
      "306  2022-52   -0.047955\n",
      "307  2022-53    0.012777\n",
      "\n",
      "[308 rows x 2 columns]\n"
     ]
    }
   ],
   "source": [
    "weekly_mean = weekly_return.groupby(\"date\")[\"return\"].mean().reset_index()\n",
    "weekly_mean.columns = [\"date\", \"mkt_return\"]\n",
    "print(weekly_mean)"
   ]
  },
  {
   "cell_type": "markdown",
   "metadata": {},
   "source": [
    "c. Load weekly risk-free return data."
   ]
  },
  {
   "cell_type": "code",
   "execution_count": 154,
   "metadata": {},
   "outputs": [
    {
     "name": "stdout",
     "output_type": "stream",
     "text": [
      "        date  free_return\n",
      "0    2017-01     0.000571\n",
      "1    2017-02     0.000738\n",
      "2    2017-03     0.000543\n",
      "3    2017-04     0.000774\n",
      "4    2017-05     0.000802\n",
      "..       ...          ...\n",
      "307  2022-48     0.000444\n",
      "308  2022-49     0.000471\n",
      "309  2022-50     0.000477\n",
      "310  2022-51     0.000459\n",
      "311  2022-52     0.000432\n",
      "\n",
      "[312 rows x 2 columns]\n"
     ]
    }
   ],
   "source": [
    "weekly_free_return = pd.read_excel(\"weekly_risk_free_rate.xlsx\")\n",
    "weekly_free_return.columns = [\"date\", \"free_return\"]\n",
    "\n",
    "# Transform date column to Y-W form.\n",
    "weekly_free_return[\"date\"] = pd.to_datetime(weekly_free_return[\"date\"])\n",
    "weekly_free_return[\"date\"] = weekly_free_return[\"date\"].dt.year.astype(str) + \"-\" \\\n",
    "    + ((weekly_free_return[\"date\"].dt.dayofyear - 1) // 7 + 1).astype(str).str.zfill(2)\n",
    "\n",
    "print(weekly_free_return)"
   ]
  },
  {
   "cell_type": "markdown",
   "metadata": {},
   "source": [
    "d. Follow Section 4 in Chen et al. (2019) to replicate Table 2 and 3 with data obtained from (a) - (c), i.e., reproduce two tables with the original methology yet with different data.\n",
    "\n",
    "**How to test CAPM?**\n",
    "\n",
    "Given N stocks over time t ∈ {1, 2 ... T}, suppose we have $r_{i} - r_{f} = \\alpha_{i} + \\beta_{i} (r_{m} - r_{f}) + \\epsilon_{i}$. For each stock i, estimate a $\\hat{\\beta}_i$ over t ∈ {1, 2 ... T-1}. Then estimate ${\\alpha}_i$ with $\\hat{\\beta}_i$ at t = T. Combine all ${\\alpha}_i$ and test whether ${\\alpha}$ is significantly different from zero.\n",
    "\n",
    "This approach fails because, \n",
    "\n",
    "1. Individual stocks can have idiosyncratic risks. This indicates that the mean independence assumption fail. Thus the ${\\beta}$ estimation fails. \n",
    "2. If we want to test significance of ${\\alpha}$ using $\\mu / \\sigma$, we need to make sure ${\\alpha}_i$ are iid distributed. Since individual stocks may have cross-sectional dependence, this assumption fails.\n",
    "\n",
    "What about construct portfolio stocks which have lower idiosyncratic risks?\n",
    "\n",
    "**Caution: market risk exposure may be offset as well!** Thus we group individual stocks into portfolios based on pre-estimated ${\\beta}$ which ensure each portfolio consists of stocks with similar market risk exposure. "
   ]
  },
  {
   "cell_type": "code",
   "execution_count": 155,
   "metadata": {},
   "outputs": [],
   "source": [
    "# Merge 3 dfs.\n",
    "test_df = pd.merge(weekly_return, weekly_mean, how = \"left\", on = \"date\")\n",
    "test_df = pd.merge(test_df, weekly_free_return, how = \"left\", on = \"date\")\n",
    "test_df = test_df.dropna(subset = \"free_return\")\n",
    "test_df[\"ri_rf\"] = test_df[\"return\"] - test_df[\"free_return\"]\n",
    "test_df[\"rm_rf\"] = test_df[\"mkt_return\"] - test_df[\"free_return\"]"
   ]
  },
  {
   "cell_type": "code",
   "execution_count": 156,
   "metadata": {},
   "outputs": [],
   "source": [
    "# Deal with period 1.\n",
    "test_p1 = test_df[test_df[\"date\"].str.startswith((\"2017\", \"2018\"))].copy()\n",
    "\n",
    "def run_regression(group):\n",
    "    X = group[\"rm_rf\"]\n",
    "    X = sm.add_constant(X)  \n",
    "    y = group[\"ri_rf\"]\n",
    "    model = sm.OLS(y, X).fit()\n",
    "    return pd.Series({\"beta\": model.params[\"rm_rf\"]})\n",
    "\n",
    "# Estimate βi for each stock i.\n",
    "reg_results = test_p1.groupby(\"code\").apply(run_regression, include_groups = False).reset_index()\n",
    "test_df = pd.merge(test_df, reg_results, on = \"code\", how = \"left\")\n",
    "test_df = test_df.dropna(subset = \"beta\")"
   ]
  },
  {
   "cell_type": "code",
   "execution_count": 157,
   "metadata": {},
   "outputs": [
    {
     "name": "stdout",
     "output_type": "stream",
     "text": [
      " portfolio     alpha   alpha_t  alpha_p     beta    beta_t   beta_p  r_squared\n",
      "         1 -0.001197 -1.706392 0.091039 0.779320 34.705154 0.000000   0.923339\n",
      "         2  0.000210  0.356219 0.722427 0.876663 46.375668 0.000000   0.955569\n",
      "         3  0.000112  0.278144 0.781476 0.910936 70.605064 0.000000   0.980335\n",
      "         4  0.000961  2.186009 0.031148 0.938965 66.730242 0.000000   0.978036\n",
      "         5  0.000007  0.018604 0.985194 1.009239 88.911805 0.000000   0.987508\n",
      "         6  0.000293  0.889660 0.375784 1.044442 98.946766 0.000000   0.989889\n",
      "         7 -0.000124 -0.275666 0.783373 1.047721 72.568432 0.000000   0.981365\n",
      "         8  0.000022  0.047599 0.962130 1.099181 73.234682 0.000000   0.981696\n",
      "         9  0.000312  0.549900 0.583614 1.139930 62.694376 0.000000   0.975190\n",
      "        10 -0.000597 -0.943806 0.347544 1.153603 57.007136 0.000000   0.970148\n"
     ]
    }
   ],
   "source": [
    "# Deal with period 2.\n",
    "test_p2 = test_df[test_df[\"date\"].str.startswith((\"2019\", \"2020\"))].copy()\n",
    "test_p2[\"portfolio\"] = pd.qcut(test_p2[\"beta\"], q = 10, labels = False) + 1\n",
    "\n",
    "portfolio_p2 = test_p2.groupby([\"date\", \"portfolio\"])[\"return\"].mean().reset_index()\n",
    "portfolio_p2[\"mkt_return\"] = portfolio_p2.groupby(\"date\")[\"return\"].transform(\"mean\")\n",
    "portfolio_p2 = pd.merge(portfolio_p2, weekly_free_return, on = \"date\", how = \"left\")\n",
    "portfolio_p2[\"ri_rf\"] = portfolio_p2[\"return\"] - portfolio_p2[\"free_return\"]\n",
    "portfolio_p2[\"rm_rf\"] = portfolio_p2[\"mkt_return\"] - portfolio_p2[\"free_return\"]\n",
    "\n",
    "def run_portfolio_regression(group):\n",
    "    X = group[\"rm_rf\"]\n",
    "    X = sm.add_constant(X)\n",
    "    y = group[\"ri_rf\"]\n",
    "    model = sm.OLS(y, X).fit()\n",
    "    return pd.Series({\n",
    "        \"alpha\": model.params[\"const\"],\n",
    "        \"alpha_t\": model.tvalues[\"const\"],\n",
    "        \"alpha_p\": model.pvalues[\"const\"],\n",
    "        \"beta\": model.params[\"rm_rf\"],\n",
    "        \"beta_t\": model.tvalues[\"rm_rf\"],\n",
    "        \"beta_p\": model.pvalues[\"rm_rf\"],\n",
    "        \"r_squared\": model.rsquared\n",
    "    })\n",
    "\n",
    "_reg_results = portfolio_p2.groupby(\"portfolio\").apply(run_portfolio_regression, include_groups = False).reset_index()\n",
    "\n",
    "pd.set_option(\"display.float_format\", lambda x: \"%.6f\" % x)\n",
    "print(_reg_results.to_string(index = False))"
   ]
  },
  {
   "cell_type": "code",
   "execution_count": null,
   "metadata": {},
   "outputs": [
    {
     "name": "stdout",
     "output_type": "stream",
     "text": [
      "                            OLS Regression Results                            \n",
      "==============================================================================\n",
      "Dep. Variable:                  ri_rf   R-squared:                       0.563\n",
      "Model:                            OLS   Adj. R-squared:                  0.509\n",
      "Method:                 Least Squares   F-statistic:                     10.32\n",
      "Date:                Sun, 06 Apr 2025   Prob (F-statistic):             0.0124\n",
      "Time:                        15:32:43   Log-Likelihood:                 66.311\n",
      "No. Observations:                  10   AIC:                            -128.6\n",
      "Df Residuals:                       8   BIC:                            -128.0\n",
      "Df Model:                           1                                         \n",
      "Covariance Type:            nonrobust                                         \n",
      "==============================================================================\n",
      "                 coef    std err          t      P>|t|      [0.025      0.975]\n",
      "------------------------------------------------------------------------------\n",
      "const         -0.0016      0.001     -1.617      0.145      -0.004       0.001\n",
      "beta           0.0031      0.001      3.213      0.012       0.001       0.005\n",
      "==============================================================================\n",
      "Omnibus:                        0.830   Durbin-Watson:                   2.983\n",
      "Prob(Omnibus):                  0.660   Jarque-Bera (JB):                0.631\n",
      "Skew:                           0.230   Prob(JB):                        0.729\n",
      "Kurtosis:                       1.859   Cond. No.                         17.4\n",
      "==============================================================================\n",
      "\n",
      "Notes:\n",
      "[1] Standard Errors assume that the covariance matrix of the errors is correctly specified.\n"
     ]
    },
    {
     "name": "stderr",
     "output_type": "stream",
     "text": [
      "D:\\Lib\\site-packages\\scipy\\stats\\_axis_nan_policy.py:430: UserWarning: `kurtosistest` p-value may be inaccurate with fewer than 20 observations; only n=10 observations were given.\n",
      "  return hypotest_fun_in(*args, **kwds)\n"
     ]
    }
   ],
   "source": [
    "# Deal with period 3.\n",
    "test_p3 = test_df[test_df[\"date\"].str.startswith((\"2021\", \"2022\"))].copy()\n",
    "test_p3[\"portfolio\"] = pd.qcut(test_p3[\"beta\"], q = 10, labels = False) + 1\n",
    "\n",
    "portfolio_p3 = test_p3.groupby([\"date\", \"portfolio\"])[\"return\"].mean().reset_index()\n",
    "portfolio_p3 = pd.merge(portfolio_p3, weekly_free_return, on = \"date\", how = \"left\")\n",
    "portfolio_p3[\"ri_rf\"] = portfolio_p3[\"return\"] - portfolio_p3[\"free_return\"]\n",
    "\n",
    "_portfolio_p3 = portfolio_p3.groupby(\"portfolio\")[\"ri_rf\"].mean().reset_index()\n",
    "beta = _reg_results[[\"portfolio\", \"beta\"]].copy()\n",
    "_portfolio_p3 = pd.merge(_portfolio_p3, beta, how = \"left\", on = \"portfolio\")\n",
    "\n",
    "X = _portfolio_p3[\"beta\"]\n",
    "X = sm.add_constant(X)\n",
    "y = _portfolio_p3[\"ri_rf\"]\n",
    "model = sm.OLS(y, X)\n",
    "result = model.fit()\n",
    "print(result.summary())"
   ]
  }
 ],
 "metadata": {
  "kernelspec": {
   "display_name": "Python 3",
   "language": "python",
   "name": "python3"
  },
  "language_info": {
   "codemirror_mode": {
    "name": "ipython",
    "version": 3
   },
   "file_extension": ".py",
   "mimetype": "text/x-python",
   "name": "python",
   "nbconvert_exporter": "python",
   "pygments_lexer": "ipython3",
   "version": "3.11.5"
  }
 },
 "nbformat": 4,
 "nbformat_minor": 2
}
