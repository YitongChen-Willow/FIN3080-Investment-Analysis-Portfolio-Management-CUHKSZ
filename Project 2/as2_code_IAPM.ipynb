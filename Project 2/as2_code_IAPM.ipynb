{
 "cells": [
  {
   "cell_type": "markdown",
   "metadata": {},
   "source": [
    "#### **Problem 0**\n",
    "Access the CSMAR database and download the following data for all listed firms in the A-share market.\n",
    "\n",
    "Ⅰ Monthly Stock Closing Price, Return (without cash dividend reinvested) over Dec. 2009 to Dec. 2024 from Individual Stock Trading table;\n",
    "\n",
    "Ⅱ Quarterly Return on Equity - TTM and Net Assets per Share over 2009Q3 to 2024Q4 from Financial Indicator table;\n",
    "\n",
    "Ⅲ Daily stock volatility (of the log return of the lastest 250 trading days) at 2010/12/31 from Stock Market Derivative Index table.\n",
    "\n",
    "Then derive monthly P/B ratios for all A-share stocks from Jan. 2010 to Dec. 2024. Exclude records with P/B ratios less than P/B ratio’s 5th percentile or greater than P/B ratio’s 95th percentile."
   ]
  },
  {
   "cell_type": "code",
   "execution_count": 10,
   "metadata": {},
   "outputs": [],
   "source": [
    "import pandas as pd\n",
    "import matplotlib.pyplot as plt\n",
    "import statsmodels.api as sm\n",
    "\n",
    "monthly = pd.read_csv(\"data/monthly/TRD_Mnth.csv\")\n",
    "quarterly_roe = pd.read_csv(\"data/quarterly/ROE_ttm/FI_T5.csv\") \n",
    "quarterly_naps = pd.read_csv(\"data/quarterly/NAPS/FI_T9.csv\")\n",
    "daily = pd.read_csv(\"data/daily/STK_MKT_STKBTAL.csv\")"
   ]
  },
  {
   "cell_type": "code",
   "execution_count": 11,
   "metadata": {},
   "outputs": [
    {
     "name": "stdout",
     "output_type": "stream",
     "text": [
      "          code     time  price    return      naps  pb_ratio\n",
      "1            1  2010-01  21.70 -0.109561  6.591545  3.292096\n",
      "2            1  2010-02  22.45  0.034562  6.591545  3.405878\n",
      "3            1  2010-03  23.20  0.033408  6.591545  3.519660\n",
      "4            1  2010-04  20.56 -0.113793  7.119722  2.887753\n",
      "5            1  2010-05  17.51 -0.148346  7.119722  2.459366\n",
      "...        ...      ...    ...       ...       ...       ...\n",
      "606577  873833  2024-08   7.54 -0.074847  7.498464  1.005539\n",
      "606578  873833  2024-09   9.86  0.307692  7.498464  1.314936\n",
      "606579  873833  2024-10  12.94  0.327586  7.337831  1.763464\n",
      "606580  873833  2024-11  17.31  0.337713  7.337831  2.359008\n",
      "606581  873833  2024-12  11.40 -0.341421  7.337831  1.553593\n",
      "\n",
      "[540843 rows x 6 columns]\n"
     ]
    }
   ],
   "source": [
    "\"\"\"Derive monthly P/B ratios\"\"\"\n",
    "\n",
    "# Data Manipulation.\n",
    "monthly.columns = [\"code\", \"time\", \"price\", \"return\"]\n",
    "monthly[\"time\"] = pd.to_datetime(monthly[\"time\"]).dt.to_period(\"M\")\n",
    "\n",
    "quarterly_naps = quarterly_naps[quarterly_naps[\"Typrep\"] != \"B\"]\n",
    "quarterly_naps = quarterly_naps.drop(columns = [\"ShortName_EN\", \"Typrep\"])\n",
    "quarterly_naps.columns = [\"code\", \"time\", \"naps\"]\n",
    "quarterly_naps[\"time\"] = (pd.to_datetime(quarterly_naps[\"time\"])+ pd.DateOffset(months=1)).dt.to_period(\"M\")\n",
    "\n",
    "# Merge two dfs.\n",
    "merged_df = pd.merge(monthly, quarterly_naps, how = \"left\", on = [\"code\", \"time\"])\n",
    "merged_df[\"naps\"] = merged_df.groupby(\"code\")[\"naps\"].ffill()\n",
    "merged_df = merged_df.dropna(subset = [\"naps\"])\n",
    "\n",
    "# Calculate and manipulate P/B.\n",
    "merged_df[\"pb_ratio\"] = merged_df[\"price\"] / merged_df[\"naps\"]\n",
    "pb_5th, pb_95th = merged_df[\"pb_ratio\"].quantile(0.05), merged_df[\"pb_ratio\"].quantile(0.95)\n",
    "merged_df = merged_df[(merged_df[\"pb_ratio\"] > pb_5th) & (merged_df[\"pb_ratio\"] < pb_95th) ]\n",
    "print(merged_df)"
   ]
  },
  {
   "cell_type": "markdown",
   "metadata": {},
   "source": [
    "#### **Problem 1**\n",
    "a. Focuse on the observations for all A-share firms at the end of 2010, regress the P/B ratio at Dec. 2010 on Return on Equity - TTM (ROE) at 2010Q4 and Stock Volatility at 2010/12/31, i.e., estimate the following cross-sectional regression:\n",
    "$$\n",
    "P/B_i = \\alpha + \\beta_1 ROE_i + \\beta_2 \\text{Stock Volatility}_i + \\epsilon_i.\n",
    "$$"
   ]
  },
  {
   "cell_type": "code",
   "execution_count": 12,
   "metadata": {},
   "outputs": [
    {
     "name": "stdout",
     "output_type": "stream",
     "text": [
      "                            OLS Regression Results                            \n",
      "==============================================================================\n",
      "Dep. Variable:               pb_ratio   R-squared:                       0.133\n",
      "Model:                            OLS   Adj. R-squared:                  0.131\n",
      "Method:                 Least Squares   F-statistic:                     104.9\n",
      "Date:                Fri, 14 Mar 2025   Prob (F-statistic):           4.14e-43\n",
      "Time:                        20:12:10   Log-Likelihood:                -2808.0\n",
      "No. Observations:                1374   AIC:                             5622.\n",
      "Df Residuals:                    1371   BIC:                             5638.\n",
      "Df Model:                           2                                         \n",
      "Covariance Type:            nonrobust                                         \n",
      "==============================================================================\n",
      "                 coef    std err          t      P>|t|      [0.025      0.975]\n",
      "------------------------------------------------------------------------------\n",
      "const          0.2057      0.279      0.738      0.461      -0.341       0.753\n",
      "roe            0.7093      0.327      2.167      0.030       0.067       1.351\n",
      "volatility     8.6747      0.611     14.204      0.000       7.477       9.873\n",
      "==============================================================================\n",
      "Omnibus:                      107.494   Durbin-Watson:                   1.800\n",
      "Prob(Omnibus):                  0.000   Jarque-Bera (JB):              149.290\n",
      "Skew:                           0.637   Prob(JB):                     3.82e-33\n",
      "Kurtosis:                       3.992   Cond. No.                         14.6\n",
      "==============================================================================\n",
      "\n",
      "Notes:\n",
      "[1] Standard Errors assume that the covariance matrix of the errors is correctly specified.\n"
     ]
    }
   ],
   "source": [
    "# Data Manipulation.\n",
    "quarterly_roe = quarterly_roe[quarterly_roe[\"Typrep\"] != \"B\"]\n",
    "quarterly_roe = quarterly_roe.drop(columns = [\"ShortName_EN\", \"Typrep\"])\n",
    "quarterly_roe.columns = [\"code\", \"time\", \"roe\"]\n",
    "quarterly_roe = quarterly_roe.dropna(subset = [\"roe\"])\n",
    "quarterly_roe[\"time\"] = pd.to_datetime(quarterly_roe[\"time\"]).dt.to_period(\"Q\")\n",
    "\n",
    "daily = daily.drop(columns = \"TradingDate\")\n",
    "daily.columns = [\"code\", \"volatility\"]\n",
    "\n",
    "roe_p1 = (quarterly_roe[quarterly_roe[\"time\"] == \"2010Q4\"]).drop(columns = \"time\")\n",
    "pb_p1 = (merged_df[merged_df[\"time\"] == \"2010-12\"]).drop(columns = [\"time\", \"price\", \"return\", \"naps\"])\n",
    "\n",
    "# Merge 3 dfs.\n",
    "df_p1 = pd.merge(pb_p1, roe_p1, how = \"left\", on = \"code\")\n",
    "df_p1 = pd.merge(df_p1, daily, how = \"left\", on = \"code\")\n",
    "df_p1 = df_p1.dropna(subset = [\"pb_ratio\", \"roe\", \"volatility\"])\n",
    "\n",
    "# Do the regression.\n",
    "X = df_p1[[\"roe\", \"volatility\"]]\n",
    "X = sm.add_constant(X)\n",
    "y = df_p1[\"pb_ratio\"]\n",
    "\n",
    "model = sm.OLS(y, X) \n",
    "results = model.fit()\n",
    "\n",
    "print(results.summary())"
   ]
  },
  {
   "cell_type": "markdown",
   "metadata": {},
   "source": [
    "#### **Problem 2**\n",
    "b. For each month from Jan. 2010 to Dec. 2024, sort firms based on their last-month P/B ratios and divide firms into ten groups according to last-month P/B ratio deciles. By holding all stocks within each group with equal weights and rebalancing positions every month, we can construct ten portfolios. Calculate the monthly returns for the ten portfolios and use a bar chart to illustrate average returns for the ten portfolios from Jan. 2010 to Dec. 2024, and discuss your findings."
   ]
  },
  {
   "cell_type": "code",
   "execution_count": 13,
   "metadata": {},
   "outputs": [
    {
     "data": {
      "image/png": "[encoded data removed]",
      "text/plain": [
       "<Figure size 1000x600 with 1 Axes>"
      ]
     },
     "metadata": {},
     "output_type": "display_data"
    }
   ],
   "source": [
    "merged_df = merged_df.sort_values(by = [\"code\", \"time\"])\n",
    "merged_df[\"lagged_pb\"] = merged_df.groupby(\"code\")[\"pb_ratio\"].shift(1)\n",
    "merged_df = merged_df.dropna(subset = \"lagged_pb\")\n",
    "\n",
    "portfolio_return = pd.DataFrame()\n",
    "\n",
    "for month, month_data in merged_df.groupby(\"time\"):\n",
    "    month_data[\"portfolio\"] = pd.qcut(month_data[\"lagged_pb\"], q = 10, labels = False) + 1\n",
    "    portfolio_avg_return = month_data.groupby(\"portfolio\")[\"return\"].mean().reset_index()\n",
    "    portfolio_avg_return[\"time\"] = month\n",
    "    portfolio_return = pd.concat([portfolio_return, portfolio_avg_return])\n",
    "\n",
    "_portfolio_return = portfolio_return.groupby(\"portfolio\")[\"return\"].mean().reset_index()\n",
    "\n",
    "# Plot the figure.\n",
    "plt.figure(figsize = (10, 6))\n",
    "plt.bar(_portfolio_return[\"portfolio\"], _portfolio_return[\"return\"], color = \"pink\")\n",
    "plt.xlabel(\"Portfolio\", fontsize = 12)\n",
    "plt.ylabel(\"Average Monthly Return\", fontsize = 12)\n",
    "plt.title(\"Average Monthly Return by Portfolio\")\n",
    "plt.xticks(range(1, 11))\n",
    "plt.grid(axis = \"y\", linestyle = \"--\", alpha = 0.7)\n",
    "plt.show()"
   ]
  }
 ],
 "metadata": {
  "kernelspec": {
   "display_name": "Python 3",
   "language": "python",
   "name": "python3"
  },
  "language_info": {
   "codemirror_mode": {
    "name": "ipython",
    "version": 3
   },
   "file_extension": ".py",
   "mimetype": "text/x-python",
   "name": "python",
   "nbconvert_exporter": "python",
   "pygments_lexer": "ipython3",
   "version": "3.11.5"
  }
 },
 "nbformat": 4,
 "nbformat_minor": 2
}
